{
 "cells": [
  {
   "cell_type": "markdown",
   "id": "ce3abe16-ad86-4fbb-93ec-99577d634371",
   "metadata": {},
   "source": [
    "## Exemplo 1\n",
    "\n",
    "Uma estrutura será contruída em madeira serrada, classe C30, cuja unidade de equilíbrio é de 14%, em local com umidade relativa do ar de 70%. \n",
    "O carregamento será de longa duração.\n",
    "Determine as tensões normais resistentes de cálculo paralela e normal às fibras e de cisalhamento."
   ]
  },
  {
   "cell_type": "markdown",
   "id": "47084b48-e17d-4a23-9cdb-e07d24aa71a4",
   "metadata": {},
   "source": [
    "- Solução:"
   ]
  },
  {
   "cell_type": "markdown",
   "id": "09f6c35a-c76e-4b08-af96-4979b5d96177",
   "metadata": {},
   "source": [
    "Tensões normais resistentes de cálculo paralela e normal às fibras:\n",
    " \n",
    " - $f_{t,0,d}$: Tensão de tração resistente de cáculo paralela às fibras;\n",
    " - $f_{t,90,d}$: Tensão de tração resistente de cáculo perpendicular às fibras;\n",
    " - $f_{c,0,d}$: Tensão de compressão resistente de cáculo paralela às fibras;\n",
    " - $f_{c,90,d}$: Tensão de compressão resistente de cáculo perpendicular às fibras;\n",
    "\n",
    "Tensão de cisalhamento resistentes de cálculo: $f_{v,d}$"
   ]
  },
  {
   "cell_type": "markdown",
   "id": "01a5ee2b-766f-4b9e-a44e-1be3e8aa2c0b",
   "metadata": {},
   "source": [
    "$X_{d} = k_{mod} \\frac{X_{k}}{\\gamma_{w}}$\n",
    "\n",
    "$k_{mod} = k_{mod_{1}} \\times k_{mod_{2}}$"
   ]
  },
  {
   "cell_type": "markdown",
   "id": "1a07f890-0d27-4a1e-9889-52c891b40bca",
   "metadata": {},
   "source": [
    "Calculando $k_{mod}$:\n",
    "\n",
    "Pela Tabela 4 da ABNT NBR 7190(1):2023, para carregamento de longa duração e madeira serrada, $k_{mod_{1}} = 0.70$.\n",
    "Como unidade de equilíbrio é de 14% em local com umidade relativa do ar de 70%, a umidade é de classe II. \n",
    "Ainda pela mesma norma, Tabela 5, para classe de umidade II, $k_{mod_{2}} = 0.90$, para madeira serrada. Logo:\n"
   ]
  },
  {
   "cell_type": "code",
   "execution_count": 1,
   "id": "8da3547d-e232-4d74-8da2-630e13d2a286",
   "metadata": {},
   "outputs": [
    {
     "data": {
      "text/plain": [
       "0.63"
      ]
     },
     "execution_count": 1,
     "metadata": {},
     "output_type": "execute_result"
    }
   ],
   "source": [
    "k_mod1 = 0.70\n",
    "k_mod2 = 0.90\n",
    "k_mod = k_mod1 * k_mod2\n",
    "k_mod"
   ]
  },
  {
   "cell_type": "code",
   "execution_count": 2,
   "id": "6b8f643e-e770-43e2-b78f-edcdde855172",
   "metadata": {},
   "outputs": [],
   "source": [
    "gama_w = 1.4"
   ]
  },
  {
   "cell_type": "markdown",
   "id": "bd8d6417-e7b3-4163-8c50-892c8b30a04b",
   "metadata": {},
   "source": [
    "Para a madeira de classe C30, da Tabela 3, ABNT NBR 7190(1):2023, obtemos:"
   ]
  },
  {
   "cell_type": "code",
   "execution_count": 3,
   "id": "7d8eab05-8e01-4303-aa6c-1622ea770753",
   "metadata": {},
   "outputs": [],
   "source": [
    "f_t0k = 18.0\n",
    "f_t90k = 0.4\n",
    "f_c0k = 23.0\n",
    "f_c90k = 2.7\n",
    "f_vk = 4.0"
   ]
  },
  {
   "cell_type": "code",
   "execution_count": 4,
   "id": "72862cca-829e-4387-a140-96f5e85d25db",
   "metadata": {},
   "outputs": [
    {
     "name": "stdout",
     "output_type": "stream",
     "text": [
      "f_t0d = 8.10 MPa\n",
      "f_t90d = 0.18 MPa\n",
      "f_c0d = 10.35 MPa\n",
      "f_c90d = 1.22 MPa\n"
     ]
    }
   ],
   "source": [
    "f_t0d = k_mod * f_t0k / gama_w\n",
    "f_t90d = k_mod * f_t90k / gama_w\n",
    "f_c0d = k_mod * f_c0k / gama_w\n",
    "f_c90d = k_mod * f_c90k / gama_w\n",
    "\n",
    "# Nas linhas abaixo, imprimo os resultados, não se preocupe com sintaxe.\n",
    "\n",
    "print(f\"f_t0d = {f_t0d:.2f} MPa\")\n",
    "print(f\"f_t90d = {f_t90d:.2f} MPa\")\n",
    "print(f\"f_c0d = {f_c0d:.2f} MPa\")\n",
    "print(f\"f_c90d = {f_c90d:.2f} MPa\")"
   ]
  },
  {
   "cell_type": "markdown",
   "id": "610b1d0a-cb6c-410c-8b52-48d1d05eda22",
   "metadata": {},
   "source": [
    "Para tensões de cisahamento, alteramos, $\\gamma_{w} = 1.8$."
   ]
  },
  {
   "cell_type": "code",
   "execution_count": 5,
   "id": "2f7f60c1-8bcc-4cf1-9e3b-ca5e2f4d549c",
   "metadata": {},
   "outputs": [
    {
     "name": "stdout",
     "output_type": "stream",
     "text": [
      "f_vd = 1.40 MPa\n"
     ]
    }
   ],
   "source": [
    "gama_w = 1.8\n",
    "f_vd = k_mod * f_vk / gama_w\n",
    "print(f\"f_vd = {f_vd:.2f} MPa\")"
   ]
  },
  {
   "cell_type": "markdown",
   "id": "1cf6d2ca-bcc0-45d5-bfda-5469a99850cf",
   "metadata": {},
   "source": [
    "Então, os parâmetros solicitados são:\n",
    "\n",
    "$$\n",
    "f_{t,0,d} = 8.10 MPa \n",
    "$$\n",
    "\n",
    "$$\n",
    "f_{t,90,d} = 0.18 MPa \n",
    "$$\n",
    "\n",
    "$$\n",
    "f_{c,0,d} = 10.35 MPa \n",
    "$$\n",
    "\n",
    "$$\n",
    "f_{c,90,d} = 1.22 MPa \n",
    "$$\n",
    "\n",
    "$$\n",
    "f_{v,d} = 1.40 MPa\n",
    "$$"
   ]
  }
 ],
 "metadata": {
  "kernelspec": {
   "display_name": "Python 3 (ipykernel)",
   "language": "python",
   "name": "python3"
  },
  "language_info": {
   "codemirror_mode": {
    "name": "ipython",
    "version": 3
   },
   "file_extension": ".py",
   "mimetype": "text/x-python",
   "name": "python",
   "nbconvert_exporter": "python",
   "pygments_lexer": "ipython3",
   "version": "3.12.5"
  }
 },
 "nbformat": 4,
 "nbformat_minor": 5
}
